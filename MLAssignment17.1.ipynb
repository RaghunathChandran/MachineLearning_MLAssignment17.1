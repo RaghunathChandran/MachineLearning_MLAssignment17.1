{
 "cells": [
  {
   "cell_type": "markdown",
   "metadata": {},
   "source": [
    "# Session 19: Assignment 1 - Raghunath"
   ]
  },
  {
   "cell_type": "markdown",
   "metadata": {},
   "source": [
    "## 1. What are the three stages to build the hypotheses or model in machine learning?\n",
    "#### Solution\n",
    "    a) Model building \n",
    "    b) Model testing \n",
    "    c) Applying the model "
   ]
  },
  {
   "cell_type": "markdown",
   "metadata": {},
   "source": [
    "## 2. What is the standard approach to supervised learning?\n",
    "#### Solution\n",
    "    The standard approach to supervised learning is to split the set of example into the training set and the test set."
   ]
  },
  {
   "cell_type": "markdown",
   "metadata": {},
   "source": [
    "## 3. What is Training set and Test set?\n",
    "\n",
    "#### Training Set \n",
    "In machine learning, a training set is a dataset used to train a model. In training the model, specific features are \n",
    "picked out from the training set. These features are then incorporated into the model. Thereby, if the training set \n",
    "is labeled correctly, the model should be able to learn something from these features.\n",
    "#### Test Set\n",
    "The test set is a dataset used to measure how well the model performs at making predictions on that test set. If the prediction scores for the test set are unreasonable, we’ll need to make some adjustments to our model and try again."
   ]
  },
  {
   "cell_type": "code",
   "execution_count": null,
   "metadata": {},
   "outputs": [],
   "source": []
  },
  {
   "cell_type": "markdown",
   "metadata": {},
   "source": [
    "## 4. What is the general principle of an ensemble method and what is bagging and boosting in ensemble method?\n",
    "\n",
    "    The general principle of an ensemble method is to combine the predictions of several models built with a given \n",
    "    learning algorithm in order to improve robustness over a single mode.\n",
    "    \n",
    "    1. Bagging: Bootstrap aggregating or bagging is an algorithm which applies Bootstrapping to machine \n",
    "    learing problems. Bootstrapping is a statistical procedure, which creats datasets from existing data by sampling \n",
    "    with replacement. \n",
    "    \n",
    "    2. Boosting: is a supervised learing technique where we define mutiple weak learniers  and then combining the weights \n",
    "    of each weak learner to come up with the solution."
   ]
  },
  {
   "cell_type": "markdown",
   "metadata": {},
   "source": [
    "\n",
    "## 5. How can you avoid overfitting ?\n",
    "\n",
    "    1. Cross-Validation : In conventional validation setting, the original data is partitioned into 3 sub sets, usually \n",
    "    60% for the traing set, 20% for the validation set and the rest for the testing set.\n",
    "        a. leave-one-out-cross validation (LOOCV)\n",
    "        b. k-fold validation\n",
    "        c. nested validation\n",
    "    \n",
    "    2. Regularization: \n",
    "    3. Selection and dimenationality reduction.\n"
   ]
  },
  {
   "cell_type": "code",
   "execution_count": null,
   "metadata": {},
   "outputs": [],
   "source": []
  }
 ],
 "metadata": {
  "kernelspec": {
   "display_name": "Python 3",
   "language": "python",
   "name": "python3"
  },
  "language_info": {
   "codemirror_mode": {
    "name": "ipython",
    "version": 3
   },
   "file_extension": ".py",
   "mimetype": "text/x-python",
   "name": "python",
   "nbconvert_exporter": "python",
   "pygments_lexer": "ipython3",
   "version": "3.7.1"
  }
 },
 "nbformat": 4,
 "nbformat_minor": 2
}
